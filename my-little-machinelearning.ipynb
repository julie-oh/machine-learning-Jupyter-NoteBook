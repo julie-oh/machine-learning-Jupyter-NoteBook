{
 "cells": [
  {
   "cell_type": "code",
   "execution_count": 1,
   "metadata": {},
   "outputs": [],
   "source": [
    "# 오호 드디어 coding start! \n",
    "# 이제부터 Brandi의 단아한 개발자, 저를 따라오시면 됩니다 :)\n",
    "# 노트북 Block을 실행하는 방법은 Shift + Enter 입니다"
   ]
  },
  {
   "cell_type": "markdown",
   "metadata": {},
   "source": [
    "### 기본 셋팅"
   ]
  },
  {
   "cell_type": "code",
   "execution_count": 2,
   "metadata": {},
   "outputs": [],
   "source": [
    "from sagemaker import get_execution_role\n",
    "\n",
    "role = get_execution_role()  # 초기에 설정해 뒀던 IAM role 가져오기\n",
    "bucket = 'sagemaker-julie-test'  # 초기 단계에 만들었던 S3 Bucket 이름 적기"
   ]
  },
  {
   "cell_type": "markdown",
   "metadata": {},
   "source": [
    "### MNIST 다운로드 받기"
   ]
  },
  {
   "cell_type": "code",
   "execution_count": 3,
   "metadata": {},
   "outputs": [
    {
     "name": "stdout",
     "output_type": "stream",
     "text": [
      "CPU times: user 912 ms, sys: 248 ms, total: 1.16 s\n",
      "Wall time: 2.11 s\n"
     ]
    }
   ],
   "source": [
    "%%time\n",
    "import pickle, gzip, numpy, urllib.request, json\n",
    "\n",
    "# 여기서 잠깐, 생소한 라이브러리 설명을 드릴게요!\n",
    "# pickle: python식 데이터 압축 포맷\n",
    "# numpy: 수치 계산을 하기 위한 python package\n",
    "\n",
    "# Load the dataset\n",
    "urllib.request.urlretrieve(\"http://deeplearning.net/data/mnist/mnist.pkl.gz\", \"mnist.pkl.gz\")\n",
    "with gzip.open('mnist.pkl.gz', 'rb') as f:\n",
    "    train_set, valid_set, test_set = pickle.load(f, encoding=\"latin1\")"
   ]
  },
  {
   "cell_type": "code",
   "execution_count": 4,
   "metadata": {},
   "outputs": [
    {
     "data": {
      "image/png": "[encoded data removed]",
      "text/plain": [
       "<matplotlib.figure.Figure at 0x7f4bccc49c88>"
      ]
     },
     "metadata": {},
     "output_type": "display_data"
    }
   ],
   "source": [
    "# matplotlib로 그리는 그림이 jupyter 노트북에 바로 보여줄 수 있도록 설정\n",
    "%matplotlib inline\n",
    "import matplotlib.pyplot as plt  # 도표나 그림을 그릴 수 있게 해주는 라이브러리\n",
    "plt.rcParams[\"figure.figsize\"] = (2, 10)  # 그림의 크기 지정\n",
    "\n",
    "def show_digit(img, caption='', subplot=None):\n",
    "    if subplot is None:\n",
    "        _,(subplot) = plt.subplots(1,1)\n",
    "    \n",
    "    imgr = img.reshape((28, 28))\n",
    "    subplot.axis('off')\n",
    "    subplot.imshow(imgr, cmap='gray')\n",
    "    plt.title(caption)\n",
    "\n",
    "# train_set의 그림과[0] 데이터 이름[1]을 예시로 보여준다\n",
    "show_digit(train_set[0][30], 'This is a {}'.format(train_set[1][30]))"
   ]
  },
  {
   "cell_type": "markdown",
   "metadata": {},
   "source": [
    "### 학습(Train)"
   ]
  },
  {
   "cell_type": "code",
   "execution_count": 5,
   "metadata": {},
   "outputs": [
    {
     "name": "stdout",
     "output_type": "stream",
     "text": [
      "training data will be uploaded to: s3://sagemaker-julie-test/kmeans_highlevel_example/data\n",
      "training artifacts will be uploaded to: s3://sagemaker-julie-test/kmeans_example/output\n"
     ]
    }
   ],
   "source": [
    "# 학습을 하기 위해 학습 알고리즘 및 데이터 경로 설정!\n",
    "from sagemaker import KMeans \n",
    "\n",
    "data_location = 's3://{}/kmeans_highlevel_example/data'.format(bucket)\n",
    "output_location = 's3://{}/kmeans_example/output'.format(bucket)\n",
    "\n",
    "print('training data will be uploaded to: {}'.format(data_location))\n",
    "print('training artifacts will be uploaded to: {}'.format(output_location))\n",
    "\n",
    "kmeans = KMeans(role=role,\n",
    "                train_instance_count=2,  # 장비 2대를 사용하여 학습하겠어요!\n",
    "                train_instance_type='ml.c4.8xlarge',  \n",
    "                output_path=output_location,  \n",
    "                k=10,  # 아래 그림을 참고해 주세요!\n",
    "                data_location=data_location)"
   ]
  },
  {
   "cell_type": "code",
   "execution_count": 6,
   "metadata": {},
   "outputs": [
    {
     "name": "stderr",
     "output_type": "stream",
     "text": [
      "INFO:sagemaker:Creating training-job with name: kmeans-2018-05-12-08-27-23-908\n"
     ]
    },
    {
     "name": "stdout",
     "output_type": "stream",
     "text": [
      "........................................\n",
      "\u001b[31mDocker entrypoint called with argument(s): train\u001b[0m\n",
      "\u001b[31m[05/12/2018 08:30:41 INFO 139974434043712] Reading default configuration from /opt/amazon/lib/python2.7/site-packages/algorithm/default-input.json: {u'_tuning_objective_metric': u'', u'_num_gpus': u'auto', u'local_lloyd_num_trials': u'auto', u'_log_level': u'info', u'_kvstore': u'auto', u'local_lloyd_init_method': u'kmeans++', u'force_dense': u'true', u'epochs': u'1', u'init_method': u'random', u'local_lloyd_tol': u'0.0001', u'local_lloyd_max_iter': u'300', u'_disable_wait_to_read': u'false', u'extra_center_factor': u'auto', u'eval_metrics': u'[\"msd\"]', u'_num_kv_servers': u'1', u'mini_batch_size': u'5000', u'half_life_time_size': u'0', u'_num_slices': u'1'}\u001b[0m\n",
      "\u001b[31m[05/12/2018 08:30:41 INFO 139974434043712] Reading provided configuration from /opt/ml/input/config/hyperparameters.json: {u'feature_dim': u'784', u'mini_batch_size': u'5000', u'k': u'10', u'force_dense': u'True'}\u001b[0m\n",
      "\u001b[31m[05/12/2018 08:30:41 INFO 139974434043712] Final configuration: {u'_tuning_objective_metric': u'', u'extra_center_factor': u'auto', u'local_lloyd_init_method': u'kmeans++', u'force_dense': u'True', u'epochs': u'1', u'feature_dim': u'784', u'local_lloyd_tol': u'0.0001', u'_disable_wait_to_read': u'false', u'eval_metrics': u'[\"msd\"]', u'_num_kv_servers': u'1', u'mini_batch_size': u'5000', u'_num_gpus': u'auto', u'local_lloyd_num_trials': u'auto', u'_log_level': u'info', u'init_method': u'random', u'half_life_time_size': u'0', u'local_lloyd_max_iter': u'300', u'_kvstore': u'auto', u'k': u'10', u'_num_slices': u'1'}\u001b[0m\n",
      "\u001b[31m[05/12/2018 08:30:41 WARNING 139974434043712] Loggers have already been setup.\u001b[0m\n",
      "\u001b[31m[05/12/2018 08:30:41 INFO 139974434043712] Launching parameter server for role scheduler\u001b[0m\n",
      "\u001b[31m[05/12/2018 08:30:41 INFO 139974434043712] {'PROTOCOL_BUFFERS_PYTHON_IMPLEMENTATION_VERSION': '2', 'PATH': '/opt/amazon/bin:/usr/local/nvidia/bin:/usr/local/sbin:/usr/local/bin:/usr/sbin:/usr/bin:/sbin:/bin:/opt/amazon/bin:/opt/amazon/bin', 'SAGEMAKER_HTTP_PORT': '8080', 'HOME': '/root', 'PYTHONUNBUFFERED': 'TRUE', 'CANONICAL_ENVROOT': '/opt/amazon', 'LD_LIBRARY_PATH': '/usr/local/nvidia/lib64:/opt/amazon/lib', 'MXNET_KVSTORE_BIGARRAY_BOUND': '400000000', 'LANG': 'en_US.utf8', 'DMLC_INTERFACE': 'ethwe', 'SHLVL': '1', 'AWS_REGION': 'us-east-1', 'NVIDIA_VISIBLE_DEVICES': 'all', 'TRAINING_JOB_NAME': 'kmeans-2018-05-12-08-27-23-908', 'PROTOCOL_BUFFERS_PYTHON_IMPLEMENTATION': 'cpp', 'ENVROOT': '/opt/amazon', 'SAGEMAKER_DATA_PATH': '/opt/ml', 'NVIDIA_DRIVER_CAPABILITIES': 'compute,utility', 'NVIDIA_REQUIRE_CUDA': 'cuda>=9.0', 'OMP_NUM_THREADS': '18', 'HOSTNAME': 'aws', 'AWS_CONTAINER_CREDENTIALS_RELATIVE_URI': '/v2/credentials/8778d675-d6c6-44c9-ae75-e6c709f9bf87', 'PWD': '/'}\u001b[0m\n",
      "\u001b[31m[05/12/2018 08:30:41 INFO 139974434043712] envs={'PROTOCOL_BUFFERS_PYTHON_IMPLEMENTATION_VERSION': '2', 'DMLC_NUM_WORKER': '2', 'DMLC_PS_ROOT_PORT': '9000', 'PATH': '/opt/amazon/bin:/usr/local/nvidia/bin:/usr/local/sbin:/usr/local/bin:/usr/sbin:/usr/bin:/sbin:/bin:/opt/amazon/bin:/opt/amazon/bin', 'SAGEMAKER_HTTP_PORT': '8080', 'HOME': '/root', 'PYTHONUNBUFFERED': 'TRUE', 'CANONICAL_ENVROOT': '/opt/amazon', 'LD_LIBRARY_PATH': '/usr/local/nvidia/lib64:/opt/amazon/lib', 'MXNET_KVSTORE_BIGARRAY_BOUND': '400000000', 'LANG': 'en_US.utf8', 'DMLC_INTERFACE': 'ethwe', 'SHLVL': '1', 'DMLC_PS_ROOT_URI': '10.40.0.3', 'AWS_REGION': 'us-east-1', 'NVIDIA_VISIBLE_DEVICES': 'all', 'TRAINING_JOB_NAME': 'kmeans-2018-05-12-08-27-23-908', 'PROTOCOL_BUFFERS_PYTHON_IMPLEMENTATION': 'cpp', 'ENVROOT': '/opt/amazon', 'SAGEMAKER_DATA_PATH': '/opt/ml', 'NVIDIA_DRIVER_CAPABILITIES': 'compute,utility', 'NVIDIA_REQUIRE_CUDA': 'cuda>=9.0', 'OMP_NUM_THREADS': '18', 'HOSTNAME': 'aws', 'AWS_CONTAINER_CREDENTIALS_RELATIVE_URI': '/v2/credentials/8778d675-d6c6-44c9-ae75-e6c709f9bf87', 'DMLC_ROLE': 'scheduler', 'PWD': '/', 'DMLC_NUM_SERVER': '1'}\u001b[0m\n",
      "\u001b[31m[05/12/2018 08:30:41 INFO 139974434043712] Launching parameter server for role server\u001b[0m\n",
      "\u001b[31m[05/12/2018 08:30:41 INFO 139974434043712] {'PROTOCOL_BUFFERS_PYTHON_IMPLEMENTATION_VERSION': '2', 'PATH': '/opt/amazon/bin:/usr/local/nvidia/bin:/usr/local/sbin:/usr/local/bin:/usr/sbin:/usr/bin:/sbin:/bin:/opt/amazon/bin:/opt/amazon/bin', 'SAGEMAKER_HTTP_PORT': '8080', 'HOME': '/root', 'PYTHONUNBUFFERED': 'TRUE', 'CANONICAL_ENVROOT': '/opt/amazon', 'LD_LIBRARY_PATH': '/usr/local/nvidia/lib64:/opt/amazon/lib', 'MXNET_KVSTORE_BIGARRAY_BOUND': '400000000', 'LANG': 'en_US.utf8', 'DMLC_INTERFACE': 'ethwe', 'SHLVL': '1', 'AWS_REGION': 'us-east-1', 'NVIDIA_VISIBLE_DEVICES': 'all', 'TRAINING_JOB_NAME': 'kmeans-2018-05-12-08-27-23-908', 'PROTOCOL_BUFFERS_PYTHON_IMPLEMENTATION': 'cpp', 'ENVROOT': '/opt/amazon', 'SAGEMAKER_DATA_PATH': '/opt/ml', 'NVIDIA_DRIVER_CAPABILITIES': 'compute,utility', 'NVIDIA_REQUIRE_CUDA': 'cuda>=9.0', 'OMP_NUM_THREADS': '18', 'HOSTNAME': 'aws', 'AWS_CONTAINER_CREDENTIALS_RELATIVE_URI': '/v2/credentials/8778d675-d6c6-44c9-ae75-e6c709f9bf87', 'PWD': '/'}\u001b[0m\n",
      "\u001b[31m[05/12/2018 08:30:41 INFO 139974434043712] envs={'PROTOCOL_BUFFERS_PYTHON_IMPLEMENTATION_VERSION': '2', 'DMLC_NUM_WORKER': '2', 'DMLC_PS_ROOT_PORT': '9000', 'PATH': '/opt/amazon/bin:/usr/local/nvidia/bin:/usr/local/sbin:/usr/local/bin:/usr/sbin:/usr/bin:/sbin:/bin:/opt/amazon/bin:/opt/amazon/bin', 'SAGEMAKER_HTTP_PORT': '8080', 'HOME': '/root', 'PYTHONUNBUFFERED': 'TRUE', 'CANONICAL_ENVROOT': '/opt/amazon', 'LD_LIBRARY_PATH': '/usr/local/nvidia/lib64:/opt/amazon/lib', 'MXNET_KVSTORE_BIGARRAY_BOUND': '400000000', 'LANG': 'en_US.utf8', 'DMLC_INTERFACE': 'ethwe', 'SHLVL': '1', 'DMLC_PS_ROOT_URI': '10.40.0.3', 'AWS_REGION': 'us-east-1', 'NVIDIA_VISIBLE_DEVICES': 'all', 'TRAINING_JOB_NAME': 'kmeans-2018-05-12-08-27-23-908', 'PROTOCOL_BUFFERS_PYTHON_IMPLEMENTATION': 'cpp', 'ENVROOT': '/opt/amazon', 'SAGEMAKER_DATA_PATH': '/opt/ml', 'NVIDIA_DRIVER_CAPABILITIES': 'compute,utility', 'NVIDIA_REQUIRE_CUDA': 'cuda>=9.0', 'OMP_NUM_THREADS': '18', 'HOSTNAME': 'aws', 'AWS_CONTAINER_CREDENTIALS_RELATIVE_URI': '/v2/credentials/8778d675-d6c6-44c9-ae75-e6c709f9bf87', 'DMLC_ROLE': 'server', 'PWD': '/', 'DMLC_NUM_SERVER': '1'}\u001b[0m\n",
      "\u001b[31m[05/12/2018 08:30:41 INFO 139974434043712] Environment: {'PROTOCOL_BUFFERS_PYTHON_IMPLEMENTATION_VERSION': '2', 'DMLC_PS_ROOT_PORT': '9000', 'DMLC_NUM_WORKER': '2', 'SAGEMAKER_HTTP_PORT': '8080', 'HOME': '/root', 'PYTHONUNBUFFERED': 'TRUE', 'CANONICAL_ENVROOT': '/opt/amazon', 'LD_LIBRARY_PATH': '/usr/local/nvidia/lib64:/opt/amazon/lib', 'MXNET_KVSTORE_BIGARRAY_BOUND': '400000000', 'LANG': 'en_US.utf8', 'DMLC_INTERFACE': 'ethwe', 'SHLVL': '1', 'DMLC_PS_ROOT_URI': '10.40.0.3', 'AWS_REGION': 'us-east-1', 'NVIDIA_VISIBLE_DEVICES': 'all', 'TRAINING_JOB_NAME': 'kmeans-2018-05-12-08-27-23-908', 'PATH': '/opt/amazon/bin:/usr/local/nvidia/bin:/usr/local/sbin:/usr/local/bin:/usr/sbin:/usr/bin:/sbin:/bin:/opt/amazon/bin:/opt/amazon/bin', 'PROTOCOL_BUFFERS_PYTHON_IMPLEMENTATION': 'cpp', 'ENVROOT': '/opt/amazon', 'SAGEMAKER_DATA_PATH': '/opt/ml', 'NVIDIA_DRIVER_CAPABILITIES': 'compute,utility', 'NVIDIA_REQUIRE_CUDA': 'cuda>=9.0', 'OMP_NUM_THREADS': '18', 'HOSTNAME': 'aws', 'AWS_CONTAINER_CREDENTIALS_RELATIVE_URI': '/v2/credentials/8778d675-d6c6-44c9-ae75-e6c709f9bf87', 'DMLC_ROLE': 'worker', 'PWD': '/', 'DMLC_NUM_SERVER': '1'}\u001b[0m\n",
      "\u001b[31m[05/12/2018 08:30:41 INFO 139974434043712] Using default worker.\u001b[0m\n",
      "\u001b[31m[05/12/2018 08:30:41 INFO 139974434043712] Loaded iterator creator application/x-recordio-protobuf for content type ('application/x-recordio-protobuf', '1.0')\u001b[0m\n",
      "\u001b[31m[05/12/2018 08:30:41 INFO 139974434043712] Create Store: dist_async\u001b[0m\n",
      "\u001b[32mDocker entrypoint called with argument(s): train\u001b[0m\n",
      "\u001b[32m[05/12/2018 08:30:46 INFO 139684004714304] Reading default configuration from /opt/amazon/lib/python2.7/site-packages/algorithm/default-input.json: {u'_tuning_objective_metric': u'', u'_num_gpus': u'auto', u'local_lloyd_num_trials': u'auto', u'_log_level': u'info', u'_kvstore': u'auto', u'local_lloyd_init_method': u'kmeans++', u'force_dense': u'true', u'epochs': u'1', u'init_method': u'random', u'local_lloyd_tol': u'0.0001', u'local_lloyd_max_iter': u'300', u'_disable_wait_to_read': u'false', u'extra_center_factor': u'auto', u'eval_metrics': u'[\"msd\"]', u'_num_kv_servers': u'1', u'mini_batch_size': u'5000', u'half_life_time_size': u'0', u'_num_slices': u'1'}\u001b[0m\n",
      "\u001b[32m[05/12/2018 08:30:46 INFO 139684004714304] Reading provided configuration from /opt/ml/input/config/hyperparameters.json: {u'feature_dim': u'784', u'mini_batch_size': u'5000', u'k': u'10', u'force_dense': u'True'}\u001b[0m\n",
      "\u001b[32m[05/12/2018 08:30:46 INFO 139684004714304] Final configuration: {u'_tuning_objective_metric': u'', u'extra_center_factor': u'auto', u'local_lloyd_init_method': u'kmeans++', u'force_dense': u'True', u'epochs': u'1', u'feature_dim': u'784', u'local_lloyd_tol': u'0.0001', u'_disable_wait_to_read': u'false', u'eval_metrics': u'[\"msd\"]', u'_num_kv_servers': u'1', u'mini_batch_size': u'5000', u'_num_gpus': u'auto', u'local_lloyd_num_trials': u'auto', u'_log_level': u'info', u'init_method': u'random', u'half_life_time_size': u'0', u'local_lloyd_max_iter': u'300', u'_kvstore': u'auto', u'k': u'10', u'_num_slices': u'1'}\u001b[0m\n",
      "\u001b[32m[05/12/2018 08:30:46 WARNING 139684004714304] Loggers have already been setup.\u001b[0m\n",
      "\u001b[32m[05/12/2018 08:30:46 INFO 139684004714304] Environment: {'PROTOCOL_BUFFERS_PYTHON_IMPLEMENTATION_VERSION': '2', 'DMLC_PS_ROOT_PORT': '9000', 'DMLC_NUM_WORKER': '2', 'SAGEMAKER_HTTP_PORT': '8080', 'HOME': '/root', 'PYTHONUNBUFFERED': 'TRUE', 'CANONICAL_ENVROOT': '/opt/amazon', 'LD_LIBRARY_PATH': '/usr/local/nvidia/lib64:/opt/amazon/lib', 'MXNET_KVSTORE_BIGARRAY_BOUND': '400000000', 'LANG': 'en_US.utf8', 'DMLC_INTERFACE': 'ethwe', 'SHLVL': '1', 'DMLC_PS_ROOT_URI': '10.40.0.3', 'AWS_REGION': 'us-east-1', 'NVIDIA_VISIBLE_DEVICES': 'all', 'TRAINING_JOB_NAME': 'kmeans-2018-05-12-08-27-23-908', 'PATH': '/opt/amazon/bin:/usr/local/nvidia/bin:/usr/local/sbin:/usr/local/bin:/usr/sbin:/usr/bin:/sbin:/bin:/opt/amazon/bin:/opt/amazon/bin', 'PROTOCOL_BUFFERS_PYTHON_IMPLEMENTATION': 'cpp', 'ENVROOT': '/opt/amazon', 'SAGEMAKER_DATA_PATH': '/opt/ml', 'NVIDIA_DRIVER_CAPABILITIES': 'compute,utility', 'NVIDIA_REQUIRE_CUDA': 'cuda>=9.0', 'OMP_NUM_THREADS': '18', 'HOSTNAME': 'aws', 'AWS_CONTAINER_CREDENTIALS_RELATIVE_URI': '/v2/credentials/49fc4129-a3bf-46d9-8b5e-35d61c03101c', 'DMLC_ROLE': 'worker', 'PWD': '/', 'DMLC_NUM_SERVER': '1'}\u001b[0m\n",
      "\u001b[32m[05/12/2018 08:30:46 INFO 139684004714304] Using default worker.\u001b[0m\n",
      "\u001b[32m[05/12/2018 08:30:46 INFO 139684004714304] Loaded iterator creator application/x-recordio-protobuf for content type ('application/x-recordio-protobuf', '1.0')\u001b[0m\n",
      "\u001b[32m[05/12/2018 08:30:46 INFO 139684004714304] Create Store: dist_async\u001b[0m\n",
      "\u001b[32m[05/12/2018 08:30:46 INFO 139684004714304] nvidia-smi took: 0.025190114975 secs to identify 0 gpus\u001b[0m\n",
      "\u001b[32m[05/12/2018 08:30:46 INFO 139684004714304] Number of GPUs being used: 0\u001b[0m\n",
      "\u001b[32m[05/12/2018 08:30:46 INFO 139684004714304] Setting up with params: {u'_tuning_objective_metric': u'', u'extra_center_factor': u'auto', u'local_lloyd_init_method': u'kmeans++', u'force_dense': u'True', u'epochs': u'1', u'feature_dim': u'784', u'local_lloyd_tol': u'0.0001', u'_disable_wait_to_read': u'false', u'eval_metrics': u'[\"msd\"]', u'_num_kv_servers': u'1', u'mini_batch_size': u'5000', u'_num_gpus': u'auto', u'local_lloyd_num_trials': u'auto', u'_log_level': u'info', u'init_method': u'random', u'half_life_time_size': u'0', u'local_lloyd_max_iter': u'300', u'_kvstore': u'auto', u'k': u'10', u'_num_slices': u'1'}\u001b[0m\n",
      "\u001b[32m/opt/amazon/lib/python2.7/site-packages/ai_algorithms_sdk/config/config_helper.py:170: DeprecationWarning: deprecated\n",
      "  warnings.warn(\"deprecated\", DeprecationWarning)\u001b[0m\n",
      "\u001b[32m/opt/amazon/lib/python2.7/site-packages/ai_algorithms_sdk/config/config_helper.py:120: DeprecationWarning: deprecated\n",
      "  warnings.warn(\"deprecated\", DeprecationWarning)\u001b[0m\n",
      "\u001b[32m[05/12/2018 08:30:46 INFO 139684004714304] Number of GPUs being used: 0\u001b[0m\n",
      "\u001b[32m[05/12/2018 08:30:46 INFO 139684004714304] number of center slices 1\u001b[0m\n",
      "\u001b[32m#metrics {\"Metrics\": {\"Max Batches Seen Between Resets\": {\"count\": 1, \"max\": 1, \"sum\": 1.0, \"min\": 1}, \"Number of Batches Since Last Reset\": {\"count\": 1, \"max\": 1, \"sum\": 1.0, \"min\": 1}, \"Number of Records Since Last Reset\": {\"count\": 1, \"max\": 5000, \"sum\": 5000.0, \"min\": 5000}, \"Total Batches Seen\": {\"count\": 1, \"max\": 1, \"sum\": 1.0, \"min\": 1}, \"Total Records Seen\": {\"count\": 1, \"max\": 5000, \"sum\": 5000.0, \"min\": 5000}, \"Max Records Seen Between Resets\": {\"count\": 1, \"max\": 5000, \"sum\": 5000.0, \"min\": 5000}, \"Reset Count\": {\"count\": 1, \"max\": 0, \"sum\": 0.0, \"min\": 0}}, \"EndTime\": 1526113846.98278, \"Dimensions\": {\"Host\": \"algo-2\", \"Meta\": \"init_train_data_iter\", \"Operation\": \"training\", \"Algorithm\": \"AWS/KMeansWebscale\"}, \"StartTime\": 1526113846.982731}\n",
      "\u001b[0m\n",
      "\u001b[31m[05/12/2018 08:30:46 INFO 139974434043712] nvidia-smi took: 0.025199174881 secs to identify 0 gpus\u001b[0m\n",
      "\u001b[31m[05/12/2018 08:30:46 INFO 139974434043712] Number of GPUs being used: 0\u001b[0m\n",
      "\u001b[31m[05/12/2018 08:30:46 INFO 139974434043712] Setting up with params: {u'_tuning_objective_metric': u'', u'extra_center_factor': u'auto', u'local_lloyd_init_method': u'kmeans++', u'force_dense': u'True', u'epochs': u'1', u'feature_dim': u'784', u'local_lloyd_tol': u'0.0001', u'_disable_wait_to_read': u'false', u'eval_metrics': u'[\"msd\"]', u'_num_kv_servers': u'1', u'mini_batch_size': u'5000', u'_num_gpus': u'auto', u'local_lloyd_num_trials': u'auto', u'_log_level': u'info', u'init_method': u'random', u'half_life_time_size': u'0', u'local_lloyd_max_iter': u'300', u'_kvstore': u'auto', u'k': u'10', u'_num_slices': u'1'}\u001b[0m\n",
      "\u001b[31m/opt/amazon/lib/python2.7/site-packages/ai_algorithms_sdk/config/config_helper.py:170: DeprecationWarning: deprecated\n",
      "  warnings.warn(\"deprecated\", DeprecationWarning)\u001b[0m\n",
      "\u001b[31m/opt/amazon/lib/python2.7/site-packages/ai_algorithms_sdk/config/config_helper.py:120: DeprecationWarning: deprecated\n",
      "  warnings.warn(\"deprecated\", DeprecationWarning)\u001b[0m\n",
      "\u001b[31m[05/12/2018 08:30:46 INFO 139974434043712] Number of GPUs being used: 0\u001b[0m\n",
      "\u001b[31m[05/12/2018 08:30:46 INFO 139974434043712] number of center slices 1\u001b[0m\n",
      "\u001b[31m#metrics {\"Metrics\": {\"Max Batches Seen Between Resets\": {\"count\": 1, \"max\": 1, \"sum\": 1.0, \"min\": 1}, \"Number of Batches Since Last Reset\": {\"count\": 1, \"max\": 1, \"sum\": 1.0, \"min\": 1}, \"Number of Records Since Last Reset\": {\"count\": 1, \"max\": 5000, \"sum\": 5000.0, \"min\": 5000}, \"Total Batches Seen\": {\"count\": 1, \"max\": 1, \"sum\": 1.0, \"min\": 1}, \"Total Records Seen\": {\"count\": 1, \"max\": 5000, \"sum\": 5000.0, \"min\": 5000}, \"Max Records Seen Between Resets\": {\"count\": 1, \"max\": 5000, \"sum\": 5000.0, \"min\": 5000}, \"Reset Count\": {\"count\": 1, \"max\": 0, \"sum\": 0.0, \"min\": 0}}, \"EndTime\": 1526113846.99211, \"Dimensions\": {\"Host\": \"algo-1\", \"Meta\": \"init_train_data_iter\", \"Operation\": \"training\", \"Algorithm\": \"AWS/KMeansWebscale\"}, \"StartTime\": 1526113846.992064}\n",
      "\u001b[0m\n",
      "\u001b[31m[05/12/2018 08:30:47 INFO 139974434043712] processed a total of 25000 examples\u001b[0m\n",
      "\u001b[31m[05/12/2018 08:30:47 INFO 139974434043712] #progress_metric: Completed 100 % of epochs\u001b[0m\n",
      "\u001b[31m#metrics {\"Metrics\": {\"Max Batches Seen Between Resets\": {\"count\": 1, \"max\": 5, \"sum\": 5.0, \"min\": 5}, \"Number of Batches Since Last Reset\": {\"count\": 1, \"max\": 5, \"sum\": 5.0, \"min\": 5}, \"Number of Records Since Last Reset\": {\"count\": 1, \"max\": 25000, \"sum\": 25000.0, \"min\": 25000}, \"Total Batches Seen\": {\"count\": 1, \"max\": 6, \"sum\": 6.0, \"min\": 6}, \"Total Records Seen\": {\"count\": 1, \"max\": 30000, \"sum\": 30000.0, \"min\": 30000}, \"Max Records Seen Between Resets\": {\"count\": 1, \"max\": 25000, \"sum\": 25000.0, \"min\": 25000}, \"Reset Count\": {\"count\": 1, \"max\": 1, \"sum\": 1.0, \"min\": 1}}, \"EndTime\": 1526113847.615602, \"Dimensions\": {\"Host\": \"algo-1\", \"Meta\": \"training_data_iter\", \"Operation\": \"training\", \"Algorithm\": \"AWS/KMeansWebscale\", \"epoch\": 0}, \"StartTime\": 1526113847.61555}\n",
      "\u001b[0m\n",
      "\u001b[31m[05/12/2018 08:30:47 INFO 139974434043712] #throughput_metric: train throughput in records/second: 40104.9192567\u001b[0m\n",
      "\u001b[31m[05/12/2018 08:30:47 INFO 139974434043712] shrinking 100 centers into 10\u001b[0m\n",
      "\u001b[32m[05/12/2018 08:30:47 INFO 139684004714304] processed a total of 25000 examples\u001b[0m\n",
      "\u001b[32m[05/12/2018 08:30:47 INFO 139684004714304] #progress_metric: Completed 100 % of epochs\u001b[0m\n",
      "\u001b[32m#metrics {\"Metrics\": {\"Max Batches Seen Between Resets\": {\"count\": 1, \"max\": 5, \"sum\": 5.0, \"min\": 5}, \"Number of Batches Since Last Reset\": {\"count\": 1, \"max\": 5, \"sum\": 5.0, \"min\": 5}, \"Number of Records Since Last Reset\": {\"count\": 1, \"max\": 25000, \"sum\": 25000.0, \"min\": 25000}, \"Total Batches Seen\": {\"count\": 1, \"max\": 6, \"sum\": 6.0, \"min\": 6}, \"Total Records Seen\": {\"count\": 1, \"max\": 30000, \"sum\": 30000.0, \"min\": 30000}, \"Max Records Seen Between Resets\": {\"count\": 1, \"max\": 25000, \"sum\": 25000.0, \"min\": 25000}, \"Reset Count\": {\"count\": 1, \"max\": 1, \"sum\": 1.0, \"min\": 1}}, \"EndTime\": 1526113847.563543, \"Dimensions\": {\"Host\": \"algo-2\", \"Meta\": \"training_data_iter\", \"Operation\": \"training\", \"Algorithm\": \"AWS/KMeansWebscale\", \"epoch\": 0}, \"StartTime\": 1526113847.563491}\n",
      "\u001b[0m\n",
      "\u001b[32m[05/12/2018 08:30:47 INFO 139684004714304] #throughput_metric: train throughput in records/second: 43059.0619923\u001b[0m\n",
      "\u001b[32m[05/12/2018 08:30:47 INFO 139684004714304] shrinking 100 centers into 10\u001b[0m\n",
      "\u001b[32m[05/12/2018 08:30:47 INFO 139684004714304] local kmeans attempt #0. Current mean square distance 10.587196\u001b[0m\n",
      "\u001b[32m[05/12/2018 08:30:47 INFO 139684004714304] local kmeans attempt #1. Current mean square distance 10.916973\u001b[0m\n",
      "\u001b[32m[05/12/2018 08:30:47 INFO 139684004714304] local kmeans attempt #2. Current mean square distance 10.543916\u001b[0m\n",
      "\u001b[32m[05/12/2018 08:30:47 INFO 139684004714304] local kmeans attempt #3. Current mean square distance 10.482656\u001b[0m\n",
      "\u001b[32m[05/12/2018 08:30:47 INFO 139684004714304] local kmeans attempt #4. Current mean square distance 11.027231\u001b[0m\n",
      "\u001b[32m[05/12/2018 08:30:47 INFO 139684004714304] local kmeans attempt #5. Current mean square distance 10.819071\u001b[0m\n",
      "\u001b[32m[05/12/2018 08:30:47 INFO 139684004714304] local kmeans attempt #6. Current mean square distance 10.880574\u001b[0m\n",
      "\u001b[32m[05/12/2018 08:30:47 INFO 139684004714304] local kmeans attempt #7. Current mean square distance 10.347107\u001b[0m\n",
      "\u001b[32m[05/12/2018 08:30:47 INFO 139684004714304] local kmeans attempt #8. Current mean square distance 10.988421\u001b[0m\n",
      "\u001b[32m[05/12/2018 08:30:47 INFO 139684004714304] local kmeans attempt #9. Current mean square distance 10.485778\u001b[0m\n",
      "\u001b[32m[05/12/2018 08:30:47 INFO 139684004714304] finished shrinking process. Mean Square Distance = 10\u001b[0m\n",
      "\u001b[32m[05/12/2018 08:30:47 INFO 139684004714304] compute all data-center distances: point norm took: 42.3841%, (0.245715 secs)\u001b[0m\n",
      "\u001b[32m[05/12/2018 08:30:47 INFO 139684004714304] batch data loading with context took: 30.9232%, (0.179273 secs)\u001b[0m\n",
      "\u001b[32m[05/12/2018 08:30:47 INFO 139684004714304] predict compute msd took: 9.5050%, (0.055104 secs)\u001b[0m\n",
      "\u001b[32m[05/12/2018 08:30:47 INFO 139684004714304] gradient: cluster size  took: 5.4598%, (0.031652 secs)\u001b[0m\n",
      "\u001b[32m[05/12/2018 08:30:47 INFO 139684004714304] compute all data-center distances: inner product took: 3.8659%, (0.022412 secs)\u001b[0m\n",
      "\u001b[32m[05/12/2018 08:30:47 INFO 139684004714304] collect from kv store took: 3.1709%, (0.018383 secs)\u001b[0m\n",
      "\u001b[32m[05/12/2018 08:30:47 INFO 139684004714304] gradient: cluster center took: 2.3432%, (0.013584 secs)\u001b[0m\n",
      "\u001b[32m[05/12/2018 08:30:47 INFO 139684004714304] compute all data-center distances: center norm took: 0.9894%, (0.005736 secs)\u001b[0m\n",
      "\u001b[32m[05/12/2018 08:30:47 INFO 139684004714304] gradient: one_hot took: 0.5325%, (0.003087 secs)\u001b[0m\n",
      "\u001b[32m[05/12/2018 08:30:47 INFO 139684004714304] splitting centers key-value pair took: 0.5212%, (0.003022 secs)\u001b[0m\n",
      "\u001b[32m[05/12/2018 08:30:47 INFO 139684004714304] update state and report convergance took: 0.2392%, (0.001387 secs)\u001b[0m\n",
      "\u001b[32m[05/12/2018 08:30:47 INFO 139684004714304] update set-up time took: 0.0401%, (0.000232 secs)\u001b[0m\n",
      "\u001b[32m[05/12/2018 08:30:47 INFO 139684004714304] predict minus dist took: 0.0255%, (0.000148 secs)\u001b[0m\n",
      "\u001b[32m[05/12/2018 08:30:47 INFO 139684004714304] TOTAL took: 0.579734802246\u001b[0m\n",
      "\u001b[32m[05/12/2018 08:30:47 INFO 139684004714304] Number of GPUs being used: 0\u001b[0m\n",
      "\u001b[32m[05/12/2018 08:30:47 INFO 139684004714304] No model is serialized on a non-master node\u001b[0m\n",
      "\u001b[32m#metrics {\"Metrics\": {\"finalize.time\": {\"count\": 1, \"max\": 288.30695152282715, \"sum\": 288.30695152282715, \"min\": 288.30695152282715}, \"initialize.time\": {\"count\": 1, \"max\": 17.78888702392578, \"sum\": 17.78888702392578, \"min\": 17.78888702392578}, \"model.serialize.time\": {\"count\": 1, \"max\": 0.22101402282714844, \"sum\": 0.22101402282714844, \"min\": 0.22101402282714844}, \"update.time\": {\"count\": 1, \"max\": 579.9069404602051, \"sum\": 579.9069404602051, \"min\": 579.9069404602051}, \"epochs\": {\"count\": 1, \"max\": 1, \"sum\": 1.0, \"min\": 1}, \"state.serialize.time\": {\"count\": 1, \"max\": 0.514984130859375, \"sum\": 0.514984130859375, \"min\": 0.514984130859375}, \"_shrink.time\": {\"count\": 1, \"max\": 284.5120429992676, \"sum\": 284.5120429992676, \"min\": 284.5120429992676}}, \"EndTime\": 1526113847.895644, \"Dimensions\": {\"Host\": \"algo-2\", \"Operation\": \"training\", \"Algorithm\": \"AWS/KMeansWebscale\"}, \"StartTime\": 1526113846.925739}\n",
      "\u001b[0m\n",
      "\u001b[32m[05/12/2018 08:30:47 INFO 139684004714304] Test data was not provided.\u001b[0m\n",
      "\u001b[32m#metrics {\"Metrics\": {\"totaltime\": {\"count\": 1, \"max\": 1048.7701892852783, \"sum\": 1048.7701892852783, \"min\": 1048.7701892852783}, \"setuptime\": {\"count\": 1, \"max\": 18.976211547851562, \"sum\": 18.976211547851562, \"min\": 18.976211547851562}}, \"EndTime\": 1526113847.898092, \"Dimensions\": {\"Host\": \"algo-2\", \"Operation\": \"training\", \"Algorithm\": \"AWS/KMeansWebscale\"}, \"StartTime\": 1526113847.895727}\n",
      "\u001b[0m\n",
      "\u001b[31m[05/12/2018 08:30:47 INFO 139974434043712] local kmeans attempt #0. Current mean square distance 10.442186\u001b[0m\n",
      "\u001b[31m[05/12/2018 08:30:47 INFO 139974434043712] local kmeans attempt #1. Current mean square distance 10.779982\u001b[0m\n",
      "\u001b[31m[05/12/2018 08:30:47 INFO 139974434043712] local kmeans attempt #2. Current mean square distance 10.364652\u001b[0m\n",
      "\u001b[31m[05/12/2018 08:30:47 INFO 139974434043712] local kmeans attempt #3. Current mean square distance 10.773109\u001b[0m\n",
      "\u001b[31m[05/12/2018 08:30:47 INFO 139974434043712] local kmeans attempt #4. Current mean square distance 10.622145\u001b[0m\n",
      "\u001b[31m[05/12/2018 08:30:47 INFO 139974434043712] local kmeans attempt #5. Current mean square distance 11.003585\u001b[0m\n",
      "\u001b[31m[05/12/2018 08:30:47 INFO 139974434043712] local kmeans attempt #6. Current mean square distance 10.366099\u001b[0m\n",
      "\u001b[31m[05/12/2018 08:30:48 INFO 139974434043712] local kmeans attempt #7. Current mean square distance 10.549043\u001b[0m\n",
      "\u001b[31m[05/12/2018 08:30:48 INFO 139974434043712] local kmeans attempt #8. Current mean square distance 10.994660\u001b[0m\n",
      "\u001b[31m[05/12/2018 08:30:48 INFO 139974434043712] local kmeans attempt #9. Current mean square distance 10.354719\u001b[0m\n",
      "\u001b[31m[05/12/2018 08:30:48 INFO 139974434043712] finished shrinking process. Mean Square Distance = 10\u001b[0m\n",
      "\u001b[31m[05/12/2018 08:30:48 INFO 139974434043712] compute all data-center distances: point norm took: 39.6555%, (0.246814 secs)\u001b[0m\n",
      "\u001b[31m[05/12/2018 08:30:48 INFO 139974434043712] batch data loading with context took: 33.9325%, (0.211195 secs)\u001b[0m\n",
      "\u001b[31m[05/12/2018 08:30:48 INFO 139974434043712] predict compute msd took: 9.7148%, (0.060465 secs)\u001b[0m\n",
      "\u001b[31m[05/12/2018 08:30:48 INFO 139974434043712] gradient: cluster size  took: 5.5225%, (0.034372 secs)\u001b[0m\n",
      "\u001b[31m[05/12/2018 08:30:48 INFO 139974434043712] compute all data-center distances: inner product took: 4.4174%, (0.027494 secs)\u001b[0m\n",
      "\u001b[31m[05/12/2018 08:30:48 INFO 139974434043712] gradient: cluster center took: 3.5672%, (0.022202 secs)\u001b[0m\n",
      "\u001b[31m[05/12/2018 08:30:48 INFO 139974434043712] collect from kv store took: 1.0776%, (0.006707 secs)\u001b[0m\n",
      "\u001b[31m[05/12/2018 08:30:48 INFO 139974434043712] compute all data-center distances: center norm took: 0.9138%, (0.005687 secs)\u001b[0m\n",
      "\u001b[31m[05/12/2018 08:30:48 INFO 139974434043712] gradient: one_hot took: 0.4897%, (0.003048 secs)\u001b[0m\n",
      "\u001b[31m[05/12/2018 08:30:48 INFO 139974434043712] splitting centers key-value pair took: 0.4176%, (0.002599 secs)\u001b[0m\n",
      "\u001b[31m[05/12/2018 08:30:48 INFO 139974434043712] update state and report convergance took: 0.2184%, (0.001359 secs)\u001b[0m\n",
      "\u001b[31m[05/12/2018 08:30:48 INFO 139974434043712] update set-up time took: 0.0413%, (0.000257 secs)\u001b[0m\n",
      "\u001b[31m[05/12/2018 08:30:48 INFO 139974434043712] predict minus dist took: 0.0316%, (0.000197 secs)\u001b[0m\n",
      "\u001b[31m[05/12/2018 08:30:48 INFO 139974434043712] TOTAL took: 0.622396707535\u001b[0m\n",
      "\u001b[31m[05/12/2018 08:30:48 INFO 139974434043712] Number of GPUs being used: 0\u001b[0m\n",
      "\u001b[31m#metrics {\"Metrics\": {\"finalize.time\": {\"count\": 1, \"max\": 452.78406143188477, \"sum\": 452.78406143188477, \"min\": 452.78406143188477}, \"initialize.time\": {\"count\": 1, \"max\": 16.315937042236328, \"sum\": 16.315937042236328, \"min\": 16.315937042236328}, \"model.serialize.time\": {\"count\": 1, \"max\": 0.2779960632324219, \"sum\": 0.2779960632324219, \"min\": 0.2779960632324219}, \"update.time\": {\"count\": 1, \"max\": 622.6730346679688, \"sum\": 622.6730346679688, \"min\": 622.6730346679688}, \"epochs\": {\"count\": 1, \"max\": 1, \"sum\": 1.0, \"min\": 1}, \"state.serialize.time\": {\"count\": 1, \"max\": 0.5748271942138672, \"sum\": 0.5748271942138672, \"min\": 0.5748271942138672}, \"_shrink.time\": {\"count\": 1, \"max\": 450.90699195861816, \"sum\": 450.90699195861816, \"min\": 450.90699195861816}}, \"EndTime\": 1526113848.069904, \"Dimensions\": {\"Host\": \"algo-1\", \"Operation\": \"training\", \"Algorithm\": \"AWS/KMeansWebscale\"}, \"StartTime\": 1526113846.935395}\n",
      "\u001b[0m\n",
      "\u001b[31m[05/12/2018 08:30:48 INFO 139974434043712] Test data was not provided.\u001b[0m\n",
      "\u001b[31m#metrics {\"Metrics\": {\"totaltime\": {\"count\": 1, \"max\": 6975.72922706604, \"sum\": 6975.72922706604, \"min\": 6975.72922706604}, \"setuptime\": {\"count\": 1, \"max\": 25.724172592163086, \"sum\": 25.724172592163086, \"min\": 25.724172592163086}}, \"EndTime\": 1526113848.072247, \"Dimensions\": {\"Host\": \"algo-1\", \"Operation\": \"training\", \"Algorithm\": \"AWS/KMeansWebscale\"}, \"StartTime\": 1526113848.069969}\n",
      "\u001b[0m\n"
     ]
    },
    {
     "name": "stdout",
     "output_type": "stream",
     "text": [
      "===== Job Complete =====\n",
      "Billable seconds: 209\n",
      "CPU times: user 7.62 s, sys: 468 ms, total: 8.09 s\n",
      "Wall time: 4min 18s\n"
     ]
    }
   ],
   "source": [
    "%%time\n",
    "\n",
    "# 학습 시작!\n",
    "kmeans.fit(kmeans.record_set(train_set[0]))"
   ]
  },
  {
   "cell_type": "code",
   "execution_count": 7,
   "metadata": {},
   "outputs": [
    {
     "name": "stderr",
     "output_type": "stream",
     "text": [
      "INFO:sagemaker:Creating model with name: kmeans-2018-05-12-08-52-37-371\n",
      "INFO:sagemaker:Creating endpoint with name kmeans-2018-05-12-08-27-23-908\n"
     ]
    },
    {
     "name": "stdout",
     "output_type": "stream",
     "text": [
      "----------------------------------------------------------------!CPU times: user 264 ms, sys: 4 ms, total: 268 ms\n",
      "Wall time: 5min 24s\n"
     ]
    }
   ],
   "source": [
    "%%time\n",
    "\n",
    "# 모델을 만든 후 사용하기 위하여 배포하기\n",
    "kmeans_predictor = kmeans.deploy(initial_instance_count=1,\n",
    "                                instance_type='ml.m4.xlarge')"
   ]
  },
  {
   "cell_type": "markdown",
   "metadata": {},
   "source": [
    "### 모델 테스트 해보기"
   ]
  },
  {
   "cell_type": "code",
   "execution_count": 9,
   "metadata": {},
   "outputs": [
    {
     "name": "stdout",
     "output_type": "stream",
     "text": [
      "[label {\n",
      "  key: \"closest_cluster\"\n",
      "  value {\n",
      "    float32_tensor {\n",
      "      values: 0.0\n",
      "    }\n",
      "  }\n",
      "}\n",
      "label {\n",
      "  key: \"distance_to_cluster\"\n",
      "  value {\n",
      "    float32_tensor {\n",
      "      values: 5.84984016418457\n",
      "    }\n",
      "  }\n",
      "}\n",
      "]\n"
     ]
    }
   ],
   "source": [
    "# valid_set에 30번째 sample을 테스트 해보기\n",
    "\n",
    "result = kmeans_predictor.predict(valid_set[0][30:31])\n",
    "print(result)"
   ]
  },
  {
   "cell_type": "code",
   "execution_count": 10,
   "metadata": {},
   "outputs": [
    {
     "name": "stdout",
     "output_type": "stream",
     "text": [
      "CPU times: user 28 ms, sys: 0 ns, total: 28 ms\n",
      "Wall time: 335 ms\n"
     ]
    }
   ],
   "source": [
    "%%time\n",
    "\n",
    "# vaild_set에 있는 0번부터 99번까지의 데이터로 cluster를 예측 해보자\n",
    "result = kmeans_predictor.predict(valid_set[0][0:100])\n",
    "\n",
    "# 예측 결과에 대한 cluster 정보를 수집\n",
    "clusters = [r.label['closest_cluster'].float32_tensor.values[0] for r in result]"
   ]
  },
  {
   "cell_type": "code",
   "execution_count": 12,
   "metadata": {
    "scrolled": false
   },
   "outputs": [
    {
     "name": "stdout",
     "output_type": "stream",
     "text": [
      "\n",
      "\n",
      "\n",
      "Cluster 0:\n"
     ]
    },
    {
     "data": {
      "image/png": "[encoded data removed]",
      "text/plain": [
       "<matplotlib.figure.Figure at 0x7f4bccc5d978>"
      ]
     },
     "metadata": {},
     "output_type": "display_data"
    },
    {
     "name": "stdout",
     "output_type": "stream",
     "text": [
      "\n",
      "\n",
      "\n",
      "Cluster 1:\n"
     ]
    },
    {
     "data": {
      "image/png": "[encoded data removed]",
      "text/plain": [
       "<matplotlib.figure.Figure at 0x7f4bbcae08d0>"
      ]
     },
     "metadata": {},
     "output_type": "display_data"
    },
    {
     "name": "stdout",
     "output_type": "stream",
     "text": [
      "\n",
      "\n",
      "\n",
      "Cluster 2:\n"
     ]
    },
    {
     "data": {
      "image/png": "[encoded data removed]",
      "text/plain": [
       "<matplotlib.figure.Figure at 0x7f4bbc4b7b38>"
      ]
     },
     "metadata": {},
     "output_type": "display_data"
    },
    {
     "name": "stdout",
     "output_type": "stream",
     "text": [
      "\n",
      "\n",
      "\n",
      "Cluster 3:\n"
     ]
    },
    {
     "data": {
      "image/png": "[encoded data removed]",
      "text/plain": [
       "<matplotlib.figure.Figure at 0x7f4bbc3ed7b8>"
      ]
     },
     "metadata": {},
     "output_type": "display_data"
    },
    {
     "name": "stdout",
     "output_type": "stream",
     "text": [
      "\n",
      "\n",
      "\n",
      "Cluster 4:\n"
     ]
    },
    {
     "data": {
      "image/png": "[encoded data removed]",
      "text/plain": [
       "<matplotlib.figure.Figure at 0x7f4bd40e75f8>"
      ]
     },
     "metadata": {},
     "output_type": "display_data"
    },
    {
     "name": "stdout",
     "output_type": "stream",
     "text": [
      "\n",
      "\n",
      "\n",
      "Cluster 5:\n"
     ]
    },
    {
     "data": {
      "image/png": "[encoded data removed]",
      "text/plain": [
       "<matplotlib.figure.Figure at 0x7f4bbe4c2e80>"
      ]
     },
     "metadata": {},
     "output_type": "display_data"
    },
    {
     "name": "stdout",
     "output_type": "stream",
     "text": [
      "\n",
      "\n",
      "\n",
      "Cluster 6:\n"
     ]
    },
    {
     "data": {
      "image/png": "[encoded data removed]",
      "text/plain": [
       "<matplotlib.figure.Figure at 0x7f4bbe123d30>"
      ]
     },
     "metadata": {},
     "output_type": "display_data"
    },
    {
     "name": "stdout",
     "output_type": "stream",
     "text": [
      "\n",
      "\n",
      "\n",
      "Cluster 7:\n"
     ]
    },
    {
     "data": {
      "image/png": "[encoded data removed]",
      "text/plain": [
       "<matplotlib.figure.Figure at 0x7f4bbc893898>"
      ]
     },
     "metadata": {},
     "output_type": "display_data"
    },
    {
     "name": "stdout",
     "output_type": "stream",
     "text": [
      "\n",
      "\n",
      "\n",
      "Cluster 8:\n"
     ]
    },
    {
     "data": {
      "image/png": "[encoded data removed]",
      "text/plain": [
       "<matplotlib.figure.Figure at 0x7f4bbd1a7390>"
      ]
     },
     "metadata": {},
     "output_type": "display_data"
    },
    {
     "name": "stdout",
     "output_type": "stream",
     "text": [
      "\n",
      "\n",
      "\n",
      "Cluster 9:\n"
     ]
    },
    {
     "data": {
      "image/png": "[encoded data removed]",
      "text/plain": [
       "<matplotlib.figure.Figure at 0x7f4be81e62b0>"
      ]
     },
     "metadata": {},
     "output_type": "display_data"
    }
   ],
   "source": [
    "# 각 cluster별 예측된 이미지 출력\n",
    "for cluster in range(10):\n",
    "    print('\\n\\n\\nCluster {}:'.format(int(cluster)))\n",
    "    digits = [ img for l, img in zip(clusters, valid_set[0]) if int(l) == cluster ]\n",
    "    height = ((len(digits)-1)//5)+1\n",
    "    width = 5\n",
    "    plt.rcParams[\"figure.figsize\"] = (width,height)\n",
    "    _, subplots = plt.subplots(height, width)\n",
    "    subplots = numpy.ndarray.flatten(subplots)\n",
    "    for subplot, image in zip(subplots, digits):\n",
    "        show_digit(image, subplot=subplot)\n",
    "    for subplot in subplots[len(digits):]:\n",
    "        subplot.axis('off')\n",
    "    \n",
    "    plt.show()"
   ]
  },
  {
   "cell_type": "code",
   "execution_count": null,
   "metadata": {},
   "outputs": [],
   "source": []
  }
 ],
 "metadata": {
  "kernelspec": {
   "display_name": "conda_python3",
   "language": "python",
   "name": "conda_python3"
  },
  "language_info": {
   "codemirror_mode": {
    "name": "ipython",
    "version": 3
   },
   "file_extension": ".py",
   "mimetype": "text/x-python",
   "name": "python",
   "nbconvert_exporter": "python",
   "pygments_lexer": "ipython3",
   "version": "3.6.4"
  }
 },
 "nbformat": 4,
 "nbformat_minor": 2
}
